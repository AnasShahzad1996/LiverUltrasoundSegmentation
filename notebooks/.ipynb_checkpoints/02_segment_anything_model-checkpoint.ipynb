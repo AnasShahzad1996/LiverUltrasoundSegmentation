{
 "cells": [
  {
   "cell_type": "code",
   "execution_count": null,
   "id": "2a3f2e83",
   "metadata": {},
   "outputs": [],
   "source": [
    "import cv2\n",
    "import requests\n",
    "import numpy as np\n",
    "import matplotlib.pyplot as plt\n",
    "\n",
    "!pip install huggingface_hub\n",
    "\n",
    "\n",
    "# Read the PNG image\n",
    "image_path = 'path/to/your/image.png'\n",
    "image = cv2.imread(image_path)\n",
    "\n",
    "# Convert the image to RGB format\n",
    "image_rgb = cv2.cvtColor(image, cv2.COLOR_BGR2RGB)\n",
    "\n",
    "# Resize the image to match the model input size (1024x1024)\n",
    "image_resized = cv2.resize(image_rgb, (1024, 1024))\n",
    "\n",
    "# Prepare the image for segmentation (convert to float and normalize)\n",
    "image_input = image_resized.astype(np.float32) / 255.0\n",
    "\n",
    "# Make a POST request to the model's API for segmentation\n",
    "url = 'https://<segmentation_model_api_url>'\n",
    "response = requests.post(url, json={'image': image_input.tolist()})\n",
    "result = response.json()\n",
    "\n",
    "# Extract the segmentation mask from the response\n",
    "segmentation_mask = np.array(result['mask'], dtype=np.uint8)\n",
    "\n",
    "# Resize the segmentation mask to match the original image size\n",
    "segmentation_mask_resized = cv2.resize(segmentation_mask, (image.shape[1], image.shape[0]))\n",
    "\n",
    "# Apply the segmentation mask to the original image\n",
    "segmented_image = cv2.bitwise_and(image, image, mask=segmentation_mask_resized)\n",
    "\n",
    "# Display the original image and the segmented image\n",
    "plt.subplot(1, 2, 1)\n",
    "plt.imshow(image_rgb)\n",
    "plt.title('Original Image')\n",
    "plt.axis('off')\n",
    "\n",
    "plt.subplot(1, 2, 2)\n",
    "plt.imshow(segmented_image)\n",
    "plt.title('Segmented Image')\n",
    "plt.axis('off')\n",
    "\n",
    "plt.show()\n"
   ]
  }
 ],
 "metadata": {
  "kernelspec": {
   "display_name": "Python 3 (ipykernel)",
   "language": "python",
   "name": "python3"
  },
  "language_info": {
   "codemirror_mode": {
    "name": "ipython",
    "version": 3
   },
   "file_extension": ".py",
   "mimetype": "text/x-python",
   "name": "python",
   "nbconvert_exporter": "python",
   "pygments_lexer": "ipython3",
   "version": "3.9.16"
  }
 },
 "nbformat": 4,
 "nbformat_minor": 5
}
